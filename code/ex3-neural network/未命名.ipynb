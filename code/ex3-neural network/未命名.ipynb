{
 "cells": [
  {
   "cell_type": "code",
   "execution_count": 2,
   "id": "c828ded8",
   "metadata": {},
   "outputs": [],
   "source": [
    "import numpy as np\n",
    "import pandas as pd\n",
    "import matplotlib.pyplot as plt\n",
    "from scipy.io import loadmat"
   ]
  },
  {
   "cell_type": "code",
   "execution_count": 4,
   "id": "361dcd75",
   "metadata": {},
   "outputs": [],
   "source": [
    "data = loadmat('ex3data1.mat')"
   ]
  },
  {
   "cell_type": "code",
   "execution_count": 6,
   "id": "bab50798",
   "metadata": {},
   "outputs": [
    {
     "data": {
      "text/plain": [
       "dict"
      ]
     },
     "execution_count": 6,
     "metadata": {},
     "output_type": "execute_result"
    }
   ],
   "source": [
    "type(data)\n"
   ]
  },
  {
   "cell_type": "code",
   "execution_count": 7,
   "id": "4460d3f4",
   "metadata": {},
   "outputs": [
    {
     "data": {
      "text/plain": [
       "{'__header__': b'MATLAB 5.0 MAT-file, Platform: GLNXA64, Created on: Sun Oct 16 13:09:09 2011',\n",
       " '__version__': '1.0',\n",
       " '__globals__': [],\n",
       " 'X': array([[0., 0., 0., ..., 0., 0., 0.],\n",
       "        [0., 0., 0., ..., 0., 0., 0.],\n",
       "        [0., 0., 0., ..., 0., 0., 0.],\n",
       "        ...,\n",
       "        [0., 0., 0., ..., 0., 0., 0.],\n",
       "        [0., 0., 0., ..., 0., 0., 0.],\n",
       "        [0., 0., 0., ..., 0., 0., 0.]]),\n",
       " 'y': array([[10],\n",
       "        [10],\n",
       "        [10],\n",
       "        ...,\n",
       "        [ 9],\n",
       "        [ 9],\n",
       "        [ 9]], dtype=uint8)}"
      ]
     },
     "execution_count": 7,
     "metadata": {},
     "output_type": "execute_result"
    }
   ],
   "source": [
    "data\n"
   ]
  },
  {
   "cell_type": "code",
   "execution_count": 10,
   "id": "9c563f11",
   "metadata": {},
   "outputs": [
    {
     "data": {
      "text/plain": [
       "((5000, 400), (5000, 1))"
      ]
     },
     "execution_count": 10,
     "metadata": {},
     "output_type": "execute_result"
    }
   ],
   "source": [
    "data['X'].shape, data['y'].shape\n"
   ]
  },
  {
   "cell_type": "code",
   "execution_count": 24,
   "id": "84687487",
   "metadata": {},
   "outputs": [],
   "source": [
    "def sigmoid(z):\n",
    "    return 1 /(1 + np.exp(-z))"
   ]
  },
  {
   "cell_type": "code",
   "execution_count": 98,
   "id": "e2053230",
   "metadata": {},
   "outputs": [],
   "source": [
    "def cost(theta, X, y, learningRate):\n",
    "    theta = np.matrix(theta)\n",
    "    X = np.matrix(X)\n",
    "    y = np.matrix(y)\n",
    "    first = np.multiply((-y), np.log(sigmoid(X * theta.T)))\n",
    "    second = np.multiply((1-y), np.log(1-sigmoid(X * theta.T)))\n",
    "    reg = (learningRate) / (2 * len(X)) * np.sum(np.power(theta[:,1:theta.shape[1]], 2))\n",
    "    \n",
    "    return np.sum(first - second) / len(X) + reg\n",
    "    # 因为我们未对 进行正则化，所以梯度下降算法将分两种情形：\n",
    "    # 为什么啊，我没看懂呢。\n"
   ]
  },
  {
   "cell_type": "code",
   "execution_count": 31,
   "id": "17f82591",
   "metadata": {},
   "outputs": [],
   "source": [
    "def gradient_with_loop(theta, X, y, learningRate):\n",
    "    theta = np.matrix(theta)\n",
    "    X = np.matrix(X)\n",
    "    y = np.matrix(y)\n",
    "    \n",
    "    \n",
    "    parameters = int(theta.ravel().shape[1])\n",
    "    grad = np.zeros(parameters)\n",
    "    \n",
    "    error = sigmoid(X * theta.T) - y\n",
    "    \n",
    "\n",
    "    for i in range(parameters):\n",
    "        term = np.multipy(error, X[:, i])\n",
    "        \n",
    "        if (i == 0):\n",
    "            grad[i] = np.sum(term) / len(X)\n",
    "        else:\n",
    "            grad[i] = np.sum(term) / len(X) + (learningRate / len(X)) * theta[:,i]\n",
    "\n",
    "    return grad\n",
    "    "
   ]
  },
  {
   "cell_type": "code",
   "execution_count": 102,
   "id": "70bc07db",
   "metadata": {},
   "outputs": [],
   "source": [
    "def gradient(theta, X, y, learningRate):\n",
    "    theta = np.matrix(theta)\n",
    "    X = np.matrix(X)\n",
    "    y = np.matrix(y)\n",
    "    \n",
    "    parameters = int(theta.ravel().shape[1])\n",
    "    error = sigmoid(X * theta.T) - y\n",
    "    \n",
    "    grad = ((X.T * error) / len(X)).T + ((learningRate / len(X)) * theta)\n",
    "    # grad = ((X.T * error) / len(X)).T + ((learningRate / len(X)) * theta)\n",
    "        \n",
    "        \n",
    "    # intercept gradient is not regularized\n",
    "    grad[0,0] = np.sum(np.multiply(error, X[:,0])) / len(X)\n",
    "    \n",
    "    \n",
    "    return np.array(grad).ravel()\n",
    "\n",
    "\n",
    "    \n",
    "    "
   ]
  },
  {
   "cell_type": "code",
   "execution_count": 96,
   "id": "3a9f4824",
   "metadata": {},
   "outputs": [],
   "source": [
    "from scipy.optimize import minimize\n",
    "\n",
    "def one_vs_all(X, y, num_labels, learning_rate):\n",
    "    rows = X.shape[0]\n",
    "    params = X.shape[1]\n",
    "    \n",
    "    # k X (n + 1) array for the parameters of each of the k classifiers\n",
    "    all_theta = np.zeros((num_labels, params + 1))\n",
    "    \n",
    "    # insert a column of ones at the beginning for the intercept term\n",
    "    X = np.insert(X, 0, values=np.ones(rows), axis=1)\n",
    "    \n",
    "    # labels are 1-indexed instead of 0-indexed\n",
    "    for i in range(1, num_labels + 1):\n",
    "        theta = np.zeros(params + 1)\n",
    "        y_i = np.array([1 if label == i else 0 for label in y])\n",
    "        y_i = np.reshape(y_i, (rows, 1))\n",
    "        \n",
    "        # minimize the objective function\n",
    "        fmin = minimize(fun=cost, x0=theta, args=(X, y_i, learning_rate), method='TNC', jac=gradient)\n",
    "        all_theta[i-1,:] = fmin.x\n",
    "    \n",
    "    return all_theta"
   ]
  },
  {
   "cell_type": "code",
   "execution_count": 53,
   "id": "dc271f35",
   "metadata": {},
   "outputs": [],
   "source": [
    "rows = data['X'].shape[0]\n",
    "params = data['X'].shape[1]"
   ]
  },
  {
   "cell_type": "code",
   "execution_count": 55,
   "id": "9cfa4600",
   "metadata": {},
   "outputs": [
    {
     "data": {
      "text/plain": [
       "(5000, 400)"
      ]
     },
     "execution_count": 55,
     "metadata": {},
     "output_type": "execute_result"
    }
   ],
   "source": [
    "rows, params"
   ]
  },
  {
   "cell_type": "code",
   "execution_count": 57,
   "id": "bbd64168",
   "metadata": {},
   "outputs": [],
   "source": [
    "X = np.insert(data['X'], 0,values = np.ones(rows),axis=1)"
   ]
  },
  {
   "cell_type": "code",
   "execution_count": 58,
   "id": "1fc67114",
   "metadata": {},
   "outputs": [
    {
     "data": {
      "text/plain": [
       "(5000, 401)"
      ]
     },
     "execution_count": 58,
     "metadata": {},
     "output_type": "execute_result"
    }
   ],
   "source": [
    "X.shape\n"
   ]
  },
  {
   "cell_type": "code",
   "execution_count": 60,
   "id": "8435ad55",
   "metadata": {},
   "outputs": [],
   "source": [
    "theta = np.zeros(params+1)"
   ]
  },
  {
   "cell_type": "code",
   "execution_count": 72,
   "id": "fe281247",
   "metadata": {},
   "outputs": [],
   "source": [
    "y_0 = np.array([1 if label == 0 else 0 for label in data['y']])\n",
    "y_0 = np.reshape(y_0, (rows, 1))"
   ]
  },
  {
   "cell_type": "code",
   "execution_count": 73,
   "id": "4ae2dfe0",
   "metadata": {},
   "outputs": [
    {
     "ename": "NameError",
     "evalue": "name 'all_theta' is not defined",
     "output_type": "error",
     "traceback": [
      "\u001b[0;31m---------------------------------------------------------------------------\u001b[0m",
      "\u001b[0;31mNameError\u001b[0m                                 Traceback (most recent call last)",
      "Cell \u001b[0;32mIn[73], line 1\u001b[0m\n\u001b[0;32m----> 1\u001b[0m X\u001b[38;5;241m.\u001b[39mshape, y_0\u001b[38;5;241m.\u001b[39mshape, theta\u001b[38;5;241m.\u001b[39mshape, \u001b[43mall_theta\u001b[49m\u001b[38;5;241m.\u001b[39mshape\n",
      "\u001b[0;31mNameError\u001b[0m: name 'all_theta' is not defined"
     ]
    }
   ],
   "source": [
    "X.shape, y_0.shape, theta.shape, all_theta.shape"
   ]
  },
  {
   "cell_type": "code",
   "execution_count": 74,
   "id": "96ffdeec",
   "metadata": {},
   "outputs": [],
   "source": [
    "all_theta = np.zeros((10, params + 1))"
   ]
  },
  {
   "cell_type": "code",
   "execution_count": 76,
   "id": "a2ce5911",
   "metadata": {},
   "outputs": [
    {
     "data": {
      "text/plain": [
       "(10, 401)"
      ]
     },
     "execution_count": 76,
     "metadata": {},
     "output_type": "execute_result"
    }
   ],
   "source": [
    "all_theta.shape"
   ]
  },
  {
   "cell_type": "code",
   "execution_count": 77,
   "id": "01a5de05",
   "metadata": {},
   "outputs": [
    {
     "data": {
      "text/plain": [
       "((5000, 401), (5000, 1), (401,), (10, 401))"
      ]
     },
     "execution_count": 77,
     "metadata": {},
     "output_type": "execute_result"
    }
   ],
   "source": [
    "X.shape, y_0.shape, theta.shape, all_theta.shape"
   ]
  },
  {
   "cell_type": "code",
   "execution_count": 80,
   "id": "36e56319",
   "metadata": {},
   "outputs": [
    {
     "data": {
      "text/plain": [
       "array([ 1,  2,  3,  4,  5,  6,  7,  8,  9, 10], dtype=uint8)"
      ]
     },
     "execution_count": 80,
     "metadata": {},
     "output_type": "execute_result"
    }
   ],
   "source": [
    "np.unique(data['y'])\n"
   ]
  },
  {
   "cell_type": "code",
   "execution_count": 103,
   "id": "d556f74d",
   "metadata": {
    "scrolled": false
   },
   "outputs": [],
   "source": [
    "all_theta = one_vs_all(data['X'], data['y'], 10, 1)"
   ]
  },
  {
   "cell_type": "code",
   "execution_count": 104,
   "id": "8596f569",
   "metadata": {},
   "outputs": [
    {
     "data": {
      "text/plain": [
       "array([[-2.38226925e+00,  0.00000000e+00,  0.00000000e+00, ...,\n",
       "         1.30432887e-03, -7.25106432e-10,  0.00000000e+00],\n",
       "       [-3.18468826e+00,  0.00000000e+00,  0.00000000e+00, ...,\n",
       "         4.46368208e-03, -5.08909111e-04,  0.00000000e+00],\n",
       "       [-4.79563242e+00,  0.00000000e+00,  0.00000000e+00, ...,\n",
       "        -2.86332926e-05, -2.47096397e-07,  0.00000000e+00],\n",
       "       ...,\n",
       "       [-7.98719598e+00,  0.00000000e+00,  0.00000000e+00, ...,\n",
       "        -8.96022489e-05,  7.22582523e-06,  0.00000000e+00],\n",
       "       [-4.57015294e+00,  0.00000000e+00,  0.00000000e+00, ...,\n",
       "        -1.33613523e-03,  9.99418923e-05,  0.00000000e+00],\n",
       "       [-5.40393035e+00,  0.00000000e+00,  0.00000000e+00, ...,\n",
       "        -1.16569695e-04,  7.86977435e-06,  0.00000000e+00]])"
      ]
     },
     "execution_count": 104,
     "metadata": {},
     "output_type": "execute_result"
    }
   ],
   "source": [
    "all_theta\n"
   ]
  },
  {
   "cell_type": "code",
   "execution_count": 107,
   "id": "3ca82fdc",
   "metadata": {},
   "outputs": [],
   "source": [
    "def predict_all(X, all_theta):\n",
    "    rows=X.shape[0]\n",
    "    params= X.shape[1]\n",
    "    num_labels= all_theta.shape[0]\n",
    "    \n",
    "    X = np.insert(X, 0, values=np.ones(rows), axis=1)\n",
    "    \n",
    "    X = np.matrix(X)\n",
    "    all_theta = np.matrix(all_theta)\n",
    "    \n",
    "    h = sigmoid(X * all_theta.T)\n",
    "    \n",
    "    h_argmax = np.argmax(h, axis=1)\n",
    "    \n",
    "    h_argmax = h_argmax + 1\n",
    "    \n",
    "    return h_argmax\n",
    "    "
   ]
  },
  {
   "cell_type": "code",
   "execution_count": 108,
   "id": "b773663a",
   "metadata": {},
   "outputs": [
    {
     "name": "stdout",
     "output_type": "stream",
     "text": [
      "accuracy = 94.46%\n"
     ]
    }
   ],
   "source": [
    "y_pred = predict_all(data['X'], all_theta)\n",
    "correct = [1 if a == b else 0 for (a, b) in zip(y_pred, data['y'])]\n",
    "accuracy = (sum(map(int, correct)) / float(len(correct)))\n",
    "print ('accuracy = {0}%'.format(accuracy * 100))"
   ]
  },
  {
   "cell_type": "code",
   "execution_count": 114,
   "id": "f6d887cd",
   "metadata": {},
   "outputs": [
    {
     "data": {
      "text/plain": [
       "(5000, 400)"
      ]
     },
     "execution_count": 114,
     "metadata": {},
     "output_type": "execute_result"
    }
   ],
   "source": [
    "data['X'].shape"
   ]
  },
  {
   "cell_type": "code",
   "execution_count": 111,
   "id": "1c99c0f3",
   "metadata": {},
   "outputs": [
    {
     "data": {
      "text/plain": [
       "(10, 401)"
      ]
     },
     "execution_count": 111,
     "metadata": {},
     "output_type": "execute_result"
    }
   ],
   "source": [
    "all_theta.shape\n"
   ]
  },
  {
   "cell_type": "code",
   "execution_count": null,
   "id": "2a32e65b",
   "metadata": {},
   "outputs": [],
   "source": []
  }
 ],
 "metadata": {
  "kernelspec": {
   "display_name": "Python 3 (ipykernel)",
   "language": "python",
   "name": "python3"
  },
  "language_info": {
   "codemirror_mode": {
    "name": "ipython",
    "version": 3
   },
   "file_extension": ".py",
   "mimetype": "text/x-python",
   "name": "python",
   "nbconvert_exporter": "python",
   "pygments_lexer": "ipython3",
   "version": "3.12.4"
  }
 },
 "nbformat": 4,
 "nbformat_minor": 5
}
